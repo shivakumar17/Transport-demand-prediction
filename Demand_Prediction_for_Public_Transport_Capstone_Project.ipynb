{
  "nbformat": 4,
  "nbformat_minor": 0,
  "metadata": {
    "kernelspec": {
      "display_name": "Python 3",
      "language": "python",
      "name": "python3"
    },
    "language_info": {
      "codemirror_mode": {
        "name": "ipython",
        "version": 3
      },
      "file_extension": ".py",
      "mimetype": "text/x-python",
      "name": "python",
      "nbconvert_exporter": "python",
      "pygments_lexer": "ipython3",
      "version": "3.6.6"
    },
    "colab": {
      "name": "Demand Prediction for Public Transport - Capstone Project.ipynb",
      "provenance": [],
      "collapsed_sections": [],
      "include_colab_link": true
    }
  },
  "cells": [
    {
      "cell_type": "markdown",
      "metadata": {
        "id": "view-in-github",
        "colab_type": "text"
      },
      "source": [
        "<a href=\"https://colab.research.google.com/github/shivakumar17/Transport-demand-prediction/blob/main/Demand_Prediction_for_Public_Transport_Capstone_Project.ipynb\" target=\"_parent\"><img src=\"https://colab.research.google.com/assets/colab-badge.svg\" alt=\"Open In Colab\"/></a>"
      ]
    },
    {
      "cell_type": "markdown",
      "metadata": {
        "id": "tOGC-qoyhJeX"
      },
      "source": [
        "# <b><u> Project Title : Traffic Jam: Predicting People's Movement into Nairobi </u></b>"
      ]
    },
    {
      "cell_type": "markdown",
      "metadata": {
        "id": "Y06xIdG26kRF"
      },
      "source": [
        "## <b> Problem Description </b>\n",
        "\n",
        "### This challenge asks you to build a model that predicts the number of seats that Mobiticket can expect to sell for each ride, i.e. for a specific route on a specific date and time. There are 14 routes in this dataset. All of the routes end in Nairobi and originate in towns to the North-West of Nairobi towards Lake Victoria.\n",
        "\n",
        "\n",
        "### The towns from which these routes originate are:\n",
        "\n",
        "* Awendo\n",
        "* Homa Bay\n",
        "* Kehancha\n",
        "* Kendu Bay\n",
        "* Keroka\n",
        "* Keumbu\n",
        "* Kijauri\n",
        "* Kisii\n",
        "* Mbita\n",
        "* Migori\n",
        "* Ndhiwa\n",
        "* Nyachenge\n",
        "* Oyugis\n",
        "* Rodi\n",
        "* Rongo\n",
        "* Sirare\n",
        "* Sori\n",
        "\n",
        "### The routes from these 14 origins to the first stop in the outskirts of Nairobi takes approximately 8 to 9 hours from time of departure. From the first stop in the outskirts of Nairobi into the main bus terminal, where most passengers get off, in Central Business District, takes another 2 to 3 hours depending on traffic.\n",
        "\n",
        "### The three stops that all these routes make in Nairobi (in order) are:\n",
        "\n",
        "1. Kawangware: the first stop in the outskirts of Nairobi\n",
        "2. Westlands\n",
        "3. Afya Centre: the main bus terminal where most passengers disembark\n",
        "\n",
        "### All of these points are mapped [here](https://www.google.com/maps/d/viewer?mid=1Ef2pFdP8keVHHid8bwju2raoRvjOGagN&ll=-0.8281897101491997%2C35.51706279999996&z=8).\n",
        "\n",
        "### Passengers of these bus (or shuttle) rides are affected by Nairobi traffic not only during their ride into the city, but from there they must continue their journey to their final destination in Nairobi wherever that may be. Traffic can act as a deterrent for those who have the option to avoid buses that arrive in Nairobi during peak traffic hours. On the other hand, traffic may be an indication for people’s movement patterns, reflecting business hours, cultural events, political events, and holidays."
      ]
    },
    {
      "cell_type": "markdown",
      "metadata": {
        "id": "AlLxAtlziMbP"
      },
      "source": [
        "## <b> Data Description </b>\n",
        "\n",
        "### <b>Nairobi Transport Data.csv (zipped)</b> is the dataset of tickets purchased from Mobiticket for the 14 routes from “up country” into Nairobi between 17 October 2017 and 20 April 2018. This dataset includes the variables: ride_id, seat_number, payment_method, payment_receipt, travel_date, travel_time, travel_from, travel_to, car_type, max_capacity.\n",
        "\n",
        "\n",
        "### Uber Movement traffic data can be accessed [here](https://movement.uber.com). Data is available for Nairobi through June 2018. Uber Movement provided historic hourly travel time between any two points in Nairobi. Any tables that are extracted from the Uber Movement platform can be used in your model.\n",
        "\n",
        "### Variables description:\n",
        "\n",
        "* #### ride_id: unique ID of a vehicle on a specific route on a specific day and time.\n",
        "* #### seat_number: seat assigned to ticket\n",
        "* #### payment_method: method used by customer to purchase ticket from Mobiticket (cash or Mpesa)\n",
        "* #### payment_receipt: unique id number for ticket purchased from Mobiticket\n",
        "* #### travel_date: date of ride departure. (MM/DD/YYYY)\n",
        "* #### travel_time: scheduled departure time of ride. Rides generally depart on time. (hh:mm)\n",
        "* #### travel_from: town from which ride originated\n",
        "* #### travel_to: destination of ride. All rides are to Nairobi.\n",
        "* #### car_type: vehicle type (shuttle or bus)\n",
        "* #### max_capacity: number of seats on the vehicle"
      ]
    },
    {
      "cell_type": "code",
      "metadata": {
        "id": "dByMsuzT8Tnw"
      },
      "source": [
        "import pandas as pd\n",
        "import numpy as np\n",
        "import matplotlib.pyplot as plt\n",
        "import seaborn as sns"
      ],
      "execution_count": 124,
      "outputs": []
    },
    {
      "cell_type": "code",
      "metadata": {
        "id": "Vi8-6SuIe3Ju",
        "colab": {
          "base_uri": "https://localhost:8080/"
        },
        "outputId": "f2371657-707f-412c-9061-c92b5ea5c9de"
      },
      "source": [
        "from google.colab import drive\n",
        "drive.mount('/content/drive')"
      ],
      "execution_count": 125,
      "outputs": [
        {
          "output_type": "stream",
          "text": [
            "Drive already mounted at /content/drive; to attempt to forcibly remount, call drive.mount(\"/content/drive\", force_remount=True).\n"
          ],
          "name": "stdout"
        }
      ]
    },
    {
      "cell_type": "code",
      "metadata": {
        "id": "LSKNkuMxe1Fa"
      },
      "source": [
        "df=pd.read_csv('/content/drive/MyDrive/transport demand/Data & Resources/Nairobi Transport Data.zip')"
      ],
      "execution_count": 126,
      "outputs": []
    },
    {
      "cell_type": "code",
      "metadata": {
        "id": "vm5Epo35fUEd",
        "colab": {
          "base_uri": "https://localhost:8080/",
          "height": 206
        },
        "outputId": "22b41245-7cb4-4eb4-e7ab-a0a8ba168fa1"
      },
      "source": [
        "df.head()"
      ],
      "execution_count": 127,
      "outputs": [
        {
          "output_type": "execute_result",
          "data": {
            "text/html": [
              "<div>\n",
              "<style scoped>\n",
              "    .dataframe tbody tr th:only-of-type {\n",
              "        vertical-align: middle;\n",
              "    }\n",
              "\n",
              "    .dataframe tbody tr th {\n",
              "        vertical-align: top;\n",
              "    }\n",
              "\n",
              "    .dataframe thead th {\n",
              "        text-align: right;\n",
              "    }\n",
              "</style>\n",
              "<table border=\"1\" class=\"dataframe\">\n",
              "  <thead>\n",
              "    <tr style=\"text-align: right;\">\n",
              "      <th></th>\n",
              "      <th>ride_id</th>\n",
              "      <th>seat_number</th>\n",
              "      <th>payment_method</th>\n",
              "      <th>payment_receipt</th>\n",
              "      <th>travel_date</th>\n",
              "      <th>travel_time</th>\n",
              "      <th>travel_from</th>\n",
              "      <th>travel_to</th>\n",
              "      <th>car_type</th>\n",
              "      <th>max_capacity</th>\n",
              "    </tr>\n",
              "  </thead>\n",
              "  <tbody>\n",
              "    <tr>\n",
              "      <th>0</th>\n",
              "      <td>1442</td>\n",
              "      <td>15A</td>\n",
              "      <td>Mpesa</td>\n",
              "      <td>UZUEHCBUSO</td>\n",
              "      <td>17-10-17</td>\n",
              "      <td>7:15</td>\n",
              "      <td>Migori</td>\n",
              "      <td>Nairobi</td>\n",
              "      <td>Bus</td>\n",
              "      <td>49</td>\n",
              "    </tr>\n",
              "    <tr>\n",
              "      <th>1</th>\n",
              "      <td>5437</td>\n",
              "      <td>14A</td>\n",
              "      <td>Mpesa</td>\n",
              "      <td>TIHLBUSGTE</td>\n",
              "      <td>19-11-17</td>\n",
              "      <td>7:12</td>\n",
              "      <td>Migori</td>\n",
              "      <td>Nairobi</td>\n",
              "      <td>Bus</td>\n",
              "      <td>49</td>\n",
              "    </tr>\n",
              "    <tr>\n",
              "      <th>2</th>\n",
              "      <td>5710</td>\n",
              "      <td>8B</td>\n",
              "      <td>Mpesa</td>\n",
              "      <td>EQX8Q5G19O</td>\n",
              "      <td>26-11-17</td>\n",
              "      <td>7:05</td>\n",
              "      <td>Keroka</td>\n",
              "      <td>Nairobi</td>\n",
              "      <td>Bus</td>\n",
              "      <td>49</td>\n",
              "    </tr>\n",
              "    <tr>\n",
              "      <th>3</th>\n",
              "      <td>5777</td>\n",
              "      <td>19A</td>\n",
              "      <td>Mpesa</td>\n",
              "      <td>SGP18CL0ME</td>\n",
              "      <td>27-11-17</td>\n",
              "      <td>7:10</td>\n",
              "      <td>Homa Bay</td>\n",
              "      <td>Nairobi</td>\n",
              "      <td>Bus</td>\n",
              "      <td>49</td>\n",
              "    </tr>\n",
              "    <tr>\n",
              "      <th>4</th>\n",
              "      <td>5778</td>\n",
              "      <td>11A</td>\n",
              "      <td>Mpesa</td>\n",
              "      <td>BM97HFRGL9</td>\n",
              "      <td>27-11-17</td>\n",
              "      <td>7:12</td>\n",
              "      <td>Migori</td>\n",
              "      <td>Nairobi</td>\n",
              "      <td>Bus</td>\n",
              "      <td>49</td>\n",
              "    </tr>\n",
              "  </tbody>\n",
              "</table>\n",
              "</div>"
            ],
            "text/plain": [
              "   ride_id seat_number payment_method  ... travel_to car_type max_capacity\n",
              "0     1442         15A          Mpesa  ...   Nairobi      Bus           49\n",
              "1     5437         14A          Mpesa  ...   Nairobi      Bus           49\n",
              "2     5710          8B          Mpesa  ...   Nairobi      Bus           49\n",
              "3     5777         19A          Mpesa  ...   Nairobi      Bus           49\n",
              "4     5778         11A          Mpesa  ...   Nairobi      Bus           49\n",
              "\n",
              "[5 rows x 10 columns]"
            ]
          },
          "metadata": {
            "tags": []
          },
          "execution_count": 127
        }
      ]
    },
    {
      "cell_type": "code",
      "metadata": {
        "id": "Wj-1AwFJfV71",
        "colab": {
          "base_uri": "https://localhost:8080/"
        },
        "outputId": "03f4cfc7-b403-4b9f-8192-542411678146"
      },
      "source": [
        "df.info()"
      ],
      "execution_count": 128,
      "outputs": [
        {
          "output_type": "stream",
          "text": [
            "<class 'pandas.core.frame.DataFrame'>\n",
            "RangeIndex: 51645 entries, 0 to 51644\n",
            "Data columns (total 10 columns):\n",
            " #   Column           Non-Null Count  Dtype \n",
            "---  ------           --------------  ----- \n",
            " 0   ride_id          51645 non-null  int64 \n",
            " 1   seat_number      51645 non-null  object\n",
            " 2   payment_method   51645 non-null  object\n",
            " 3   payment_receipt  51645 non-null  object\n",
            " 4   travel_date      51645 non-null  object\n",
            " 5   travel_time      51645 non-null  object\n",
            " 6   travel_from      51645 non-null  object\n",
            " 7   travel_to        51645 non-null  object\n",
            " 8   car_type         51645 non-null  object\n",
            " 9   max_capacity     51645 non-null  int64 \n",
            "dtypes: int64(2), object(8)\n",
            "memory usage: 3.9+ MB\n"
          ],
          "name": "stdout"
        }
      ]
    },
    {
      "cell_type": "code",
      "metadata": {
        "id": "oOl9u1BZlEM2",
        "colab": {
          "base_uri": "https://localhost:8080/"
        },
        "outputId": "1a0f543c-2b54-4608-d8b1-7f1292d87843"
      },
      "source": [
        "df['car_type'].unique()"
      ],
      "execution_count": 129,
      "outputs": [
        {
          "output_type": "execute_result",
          "data": {
            "text/plain": [
              "array(['Bus', 'shuttle'], dtype=object)"
            ]
          },
          "metadata": {
            "tags": []
          },
          "execution_count": 129
        }
      ]
    },
    {
      "cell_type": "code",
      "metadata": {
        "id": "-AVHDR9y5ubv"
      },
      "source": [
        "df['seats_occupied']=df.groupby(['car_type','travel_date','travel_time','travel_from'])['travel_time'].transform('count')"
      ],
      "execution_count": 130,
      "outputs": []
    },
    {
      "cell_type": "code",
      "metadata": {
        "id": "zieEKgzU7H92",
        "colab": {
          "base_uri": "https://localhost:8080/",
          "height": 423
        },
        "outputId": "a0b6e172-80f4-4892-ec12-e23a9125bd43"
      },
      "source": [
        "df"
      ],
      "execution_count": 131,
      "outputs": [
        {
          "output_type": "execute_result",
          "data": {
            "text/html": [
              "<div>\n",
              "<style scoped>\n",
              "    .dataframe tbody tr th:only-of-type {\n",
              "        vertical-align: middle;\n",
              "    }\n",
              "\n",
              "    .dataframe tbody tr th {\n",
              "        vertical-align: top;\n",
              "    }\n",
              "\n",
              "    .dataframe thead th {\n",
              "        text-align: right;\n",
              "    }\n",
              "</style>\n",
              "<table border=\"1\" class=\"dataframe\">\n",
              "  <thead>\n",
              "    <tr style=\"text-align: right;\">\n",
              "      <th></th>\n",
              "      <th>ride_id</th>\n",
              "      <th>seat_number</th>\n",
              "      <th>payment_method</th>\n",
              "      <th>payment_receipt</th>\n",
              "      <th>travel_date</th>\n",
              "      <th>travel_time</th>\n",
              "      <th>travel_from</th>\n",
              "      <th>travel_to</th>\n",
              "      <th>car_type</th>\n",
              "      <th>max_capacity</th>\n",
              "      <th>seats_occupied</th>\n",
              "    </tr>\n",
              "  </thead>\n",
              "  <tbody>\n",
              "    <tr>\n",
              "      <th>0</th>\n",
              "      <td>1442</td>\n",
              "      <td>15A</td>\n",
              "      <td>Mpesa</td>\n",
              "      <td>UZUEHCBUSO</td>\n",
              "      <td>17-10-17</td>\n",
              "      <td>7:15</td>\n",
              "      <td>Migori</td>\n",
              "      <td>Nairobi</td>\n",
              "      <td>Bus</td>\n",
              "      <td>49</td>\n",
              "      <td>1</td>\n",
              "    </tr>\n",
              "    <tr>\n",
              "      <th>1</th>\n",
              "      <td>5437</td>\n",
              "      <td>14A</td>\n",
              "      <td>Mpesa</td>\n",
              "      <td>TIHLBUSGTE</td>\n",
              "      <td>19-11-17</td>\n",
              "      <td>7:12</td>\n",
              "      <td>Migori</td>\n",
              "      <td>Nairobi</td>\n",
              "      <td>Bus</td>\n",
              "      <td>49</td>\n",
              "      <td>1</td>\n",
              "    </tr>\n",
              "    <tr>\n",
              "      <th>2</th>\n",
              "      <td>5710</td>\n",
              "      <td>8B</td>\n",
              "      <td>Mpesa</td>\n",
              "      <td>EQX8Q5G19O</td>\n",
              "      <td>26-11-17</td>\n",
              "      <td>7:05</td>\n",
              "      <td>Keroka</td>\n",
              "      <td>Nairobi</td>\n",
              "      <td>Bus</td>\n",
              "      <td>49</td>\n",
              "      <td>1</td>\n",
              "    </tr>\n",
              "    <tr>\n",
              "      <th>3</th>\n",
              "      <td>5777</td>\n",
              "      <td>19A</td>\n",
              "      <td>Mpesa</td>\n",
              "      <td>SGP18CL0ME</td>\n",
              "      <td>27-11-17</td>\n",
              "      <td>7:10</td>\n",
              "      <td>Homa Bay</td>\n",
              "      <td>Nairobi</td>\n",
              "      <td>Bus</td>\n",
              "      <td>49</td>\n",
              "      <td>5</td>\n",
              "    </tr>\n",
              "    <tr>\n",
              "      <th>4</th>\n",
              "      <td>5778</td>\n",
              "      <td>11A</td>\n",
              "      <td>Mpesa</td>\n",
              "      <td>BM97HFRGL9</td>\n",
              "      <td>27-11-17</td>\n",
              "      <td>7:12</td>\n",
              "      <td>Migori</td>\n",
              "      <td>Nairobi</td>\n",
              "      <td>Bus</td>\n",
              "      <td>49</td>\n",
              "      <td>31</td>\n",
              "    </tr>\n",
              "    <tr>\n",
              "      <th>...</th>\n",
              "      <td>...</td>\n",
              "      <td>...</td>\n",
              "      <td>...</td>\n",
              "      <td>...</td>\n",
              "      <td>...</td>\n",
              "      <td>...</td>\n",
              "      <td>...</td>\n",
              "      <td>...</td>\n",
              "      <td>...</td>\n",
              "      <td>...</td>\n",
              "      <td>...</td>\n",
              "    </tr>\n",
              "    <tr>\n",
              "      <th>51640</th>\n",
              "      <td>13826</td>\n",
              "      <td>9B</td>\n",
              "      <td>Mpesa</td>\n",
              "      <td>8V2XDDZR6V</td>\n",
              "      <td>20-04-18</td>\n",
              "      <td>8:00</td>\n",
              "      <td>Awendo</td>\n",
              "      <td>Nairobi</td>\n",
              "      <td>Bus</td>\n",
              "      <td>49</td>\n",
              "      <td>1</td>\n",
              "    </tr>\n",
              "    <tr>\n",
              "      <th>51641</th>\n",
              "      <td>13809</td>\n",
              "      <td>18A</td>\n",
              "      <td>Mpesa</td>\n",
              "      <td>4PEBSVJSNK</td>\n",
              "      <td>20-04-18</td>\n",
              "      <td>8:00</td>\n",
              "      <td>Migori</td>\n",
              "      <td>Nairobi</td>\n",
              "      <td>Bus</td>\n",
              "      <td>49</td>\n",
              "      <td>29</td>\n",
              "    </tr>\n",
              "    <tr>\n",
              "      <th>51642</th>\n",
              "      <td>13809</td>\n",
              "      <td>17A</td>\n",
              "      <td>Mpesa</td>\n",
              "      <td>LVN64LZDNN</td>\n",
              "      <td>20-04-18</td>\n",
              "      <td>8:00</td>\n",
              "      <td>Migori</td>\n",
              "      <td>Nairobi</td>\n",
              "      <td>Bus</td>\n",
              "      <td>49</td>\n",
              "      <td>29</td>\n",
              "    </tr>\n",
              "    <tr>\n",
              "      <th>51643</th>\n",
              "      <td>13796</td>\n",
              "      <td>16B</td>\n",
              "      <td>Mpesa</td>\n",
              "      <td>REYBSKTYWN</td>\n",
              "      <td>20-04-18</td>\n",
              "      <td>7:08</td>\n",
              "      <td>Awendo</td>\n",
              "      <td>Nairobi</td>\n",
              "      <td>Bus</td>\n",
              "      <td>49</td>\n",
              "      <td>27</td>\n",
              "    </tr>\n",
              "    <tr>\n",
              "      <th>51644</th>\n",
              "      <td>14304</td>\n",
              "      <td>7</td>\n",
              "      <td>Mpesa</td>\n",
              "      <td>AQN7FBUSGP</td>\n",
              "      <td>14-11-17</td>\n",
              "      <td>5:10</td>\n",
              "      <td>Kisii</td>\n",
              "      <td>Nairobi</td>\n",
              "      <td>Bus</td>\n",
              "      <td>49</td>\n",
              "      <td>1</td>\n",
              "    </tr>\n",
              "  </tbody>\n",
              "</table>\n",
              "<p>51645 rows × 11 columns</p>\n",
              "</div>"
            ],
            "text/plain": [
              "       ride_id seat_number  ... max_capacity seats_occupied\n",
              "0         1442         15A  ...           49              1\n",
              "1         5437         14A  ...           49              1\n",
              "2         5710          8B  ...           49              1\n",
              "3         5777         19A  ...           49              5\n",
              "4         5778         11A  ...           49             31\n",
              "...        ...         ...  ...          ...            ...\n",
              "51640    13826          9B  ...           49              1\n",
              "51641    13809         18A  ...           49             29\n",
              "51642    13809         17A  ...           49             29\n",
              "51643    13796         16B  ...           49             27\n",
              "51644    14304           7  ...           49              1\n",
              "\n",
              "[51645 rows x 11 columns]"
            ]
          },
          "metadata": {
            "tags": []
          },
          "execution_count": 131
        }
      ]
    },
    {
      "cell_type": "code",
      "metadata": {
        "id": "gtxGWFlglNuY",
        "colab": {
          "base_uri": "https://localhost:8080/",
          "height": 237
        },
        "outputId": "6de0aa6c-54ca-4260-c159-298bc5193ce6"
      },
      "source": [
        "df[(df['car_type']=='Bus') & (df['travel_date']=='27-11-17') & (df['travel_time']=='7:10')]"
      ],
      "execution_count": 132,
      "outputs": [
        {
          "output_type": "execute_result",
          "data": {
            "text/html": [
              "<div>\n",
              "<style scoped>\n",
              "    .dataframe tbody tr th:only-of-type {\n",
              "        vertical-align: middle;\n",
              "    }\n",
              "\n",
              "    .dataframe tbody tr th {\n",
              "        vertical-align: top;\n",
              "    }\n",
              "\n",
              "    .dataframe thead th {\n",
              "        text-align: right;\n",
              "    }\n",
              "</style>\n",
              "<table border=\"1\" class=\"dataframe\">\n",
              "  <thead>\n",
              "    <tr style=\"text-align: right;\">\n",
              "      <th></th>\n",
              "      <th>ride_id</th>\n",
              "      <th>seat_number</th>\n",
              "      <th>payment_method</th>\n",
              "      <th>payment_receipt</th>\n",
              "      <th>travel_date</th>\n",
              "      <th>travel_time</th>\n",
              "      <th>travel_from</th>\n",
              "      <th>travel_to</th>\n",
              "      <th>car_type</th>\n",
              "      <th>max_capacity</th>\n",
              "      <th>seats_occupied</th>\n",
              "    </tr>\n",
              "  </thead>\n",
              "  <tbody>\n",
              "    <tr>\n",
              "      <th>3</th>\n",
              "      <td>5777</td>\n",
              "      <td>19A</td>\n",
              "      <td>Mpesa</td>\n",
              "      <td>SGP18CL0ME</td>\n",
              "      <td>27-11-17</td>\n",
              "      <td>7:10</td>\n",
              "      <td>Homa Bay</td>\n",
              "      <td>Nairobi</td>\n",
              "      <td>Bus</td>\n",
              "      <td>49</td>\n",
              "      <td>5</td>\n",
              "    </tr>\n",
              "    <tr>\n",
              "      <th>5</th>\n",
              "      <td>5777</td>\n",
              "      <td>18B</td>\n",
              "      <td>Mpesa</td>\n",
              "      <td>B6PBDU30IZ</td>\n",
              "      <td>27-11-17</td>\n",
              "      <td>7:10</td>\n",
              "      <td>Homa Bay</td>\n",
              "      <td>Nairobi</td>\n",
              "      <td>Bus</td>\n",
              "      <td>49</td>\n",
              "      <td>5</td>\n",
              "    </tr>\n",
              "    <tr>\n",
              "      <th>6</th>\n",
              "      <td>5777</td>\n",
              "      <td>14A</td>\n",
              "      <td>Mpesa</td>\n",
              "      <td>MZHGDGS6QZ</td>\n",
              "      <td>27-11-17</td>\n",
              "      <td>7:10</td>\n",
              "      <td>Homa Bay</td>\n",
              "      <td>Nairobi</td>\n",
              "      <td>Bus</td>\n",
              "      <td>49</td>\n",
              "      <td>5</td>\n",
              "    </tr>\n",
              "    <tr>\n",
              "      <th>60</th>\n",
              "      <td>5777</td>\n",
              "      <td>15B</td>\n",
              "      <td>Mpesa</td>\n",
              "      <td>7C7P3D5AJQ</td>\n",
              "      <td>27-11-17</td>\n",
              "      <td>7:10</td>\n",
              "      <td>Homa Bay</td>\n",
              "      <td>Nairobi</td>\n",
              "      <td>Bus</td>\n",
              "      <td>49</td>\n",
              "      <td>5</td>\n",
              "    </tr>\n",
              "    <tr>\n",
              "      <th>62</th>\n",
              "      <td>5777</td>\n",
              "      <td>16B</td>\n",
              "      <td>Mpesa</td>\n",
              "      <td>P013NWHQID</td>\n",
              "      <td>27-11-17</td>\n",
              "      <td>7:10</td>\n",
              "      <td>Homa Bay</td>\n",
              "      <td>Nairobi</td>\n",
              "      <td>Bus</td>\n",
              "      <td>49</td>\n",
              "      <td>5</td>\n",
              "    </tr>\n",
              "    <tr>\n",
              "      <th>47955</th>\n",
              "      <td>13347</td>\n",
              "      <td>1B</td>\n",
              "      <td>Mpesa</td>\n",
              "      <td>BRNMANXRFL</td>\n",
              "      <td>27-11-17</td>\n",
              "      <td>7:10</td>\n",
              "      <td>Kisii</td>\n",
              "      <td>Nairobi</td>\n",
              "      <td>Bus</td>\n",
              "      <td>49</td>\n",
              "      <td>1</td>\n",
              "    </tr>\n",
              "  </tbody>\n",
              "</table>\n",
              "</div>"
            ],
            "text/plain": [
              "       ride_id seat_number  ... max_capacity seats_occupied\n",
              "3         5777         19A  ...           49              5\n",
              "5         5777         18B  ...           49              5\n",
              "6         5777         14A  ...           49              5\n",
              "60        5777         15B  ...           49              5\n",
              "62        5777         16B  ...           49              5\n",
              "47955    13347          1B  ...           49              1\n",
              "\n",
              "[6 rows x 11 columns]"
            ]
          },
          "metadata": {
            "tags": []
          },
          "execution_count": 132
        }
      ]
    },
    {
      "cell_type": "code",
      "metadata": {
        "id": "xnn_-mPS7ojg",
        "colab": {
          "base_uri": "https://localhost:8080/",
          "height": 895
        },
        "outputId": "317ba0e9-94c7-4b34-d1fd-01715686e730"
      },
      "source": [
        "df[(df['car_type']=='Bus') & (df['travel_date']=='27-11-17') & (df['travel_time']=='7:09')]"
      ],
      "execution_count": 166,
      "outputs": [
        {
          "output_type": "execute_result",
          "data": {
            "text/html": [
              "<div>\n",
              "<style scoped>\n",
              "    .dataframe tbody tr th:only-of-type {\n",
              "        vertical-align: middle;\n",
              "    }\n",
              "\n",
              "    .dataframe tbody tr th {\n",
              "        vertical-align: top;\n",
              "    }\n",
              "\n",
              "    .dataframe thead th {\n",
              "        text-align: right;\n",
              "    }\n",
              "</style>\n",
              "<table border=\"1\" class=\"dataframe\">\n",
              "  <thead>\n",
              "    <tr style=\"text-align: right;\">\n",
              "      <th></th>\n",
              "      <th>ride_id</th>\n",
              "      <th>seat_number</th>\n",
              "      <th>payment_method</th>\n",
              "      <th>payment_receipt</th>\n",
              "      <th>travel_date</th>\n",
              "      <th>travel_time</th>\n",
              "      <th>travel_from</th>\n",
              "      <th>travel_to</th>\n",
              "      <th>car_type</th>\n",
              "      <th>max_capacity</th>\n",
              "      <th>seats_occupied</th>\n",
              "    </tr>\n",
              "  </thead>\n",
              "  <tbody>\n",
              "    <tr>\n",
              "      <th>9</th>\n",
              "      <td>5781</td>\n",
              "      <td>22A</td>\n",
              "      <td>Mpesa</td>\n",
              "      <td>VGG7Q3MVJX</td>\n",
              "      <td>27-11-17</td>\n",
              "      <td>7:09</td>\n",
              "      <td>Homa Bay</td>\n",
              "      <td>Nairobi</td>\n",
              "      <td>Bus</td>\n",
              "      <td>49</td>\n",
              "      <td>26</td>\n",
              "    </tr>\n",
              "    <tr>\n",
              "      <th>10</th>\n",
              "      <td>5781</td>\n",
              "      <td>18B</td>\n",
              "      <td>Mpesa</td>\n",
              "      <td>YJ7JFHOGKA</td>\n",
              "      <td>27-11-17</td>\n",
              "      <td>7:09</td>\n",
              "      <td>Homa Bay</td>\n",
              "      <td>Nairobi</td>\n",
              "      <td>Bus</td>\n",
              "      <td>49</td>\n",
              "      <td>26</td>\n",
              "    </tr>\n",
              "    <tr>\n",
              "      <th>11</th>\n",
              "      <td>5781</td>\n",
              "      <td>17B</td>\n",
              "      <td>Mpesa</td>\n",
              "      <td>4JQOSC881A</td>\n",
              "      <td>27-11-17</td>\n",
              "      <td>7:09</td>\n",
              "      <td>Homa Bay</td>\n",
              "      <td>Nairobi</td>\n",
              "      <td>Bus</td>\n",
              "      <td>49</td>\n",
              "      <td>26</td>\n",
              "    </tr>\n",
              "    <tr>\n",
              "      <th>21</th>\n",
              "      <td>5781</td>\n",
              "      <td>18A</td>\n",
              "      <td>Mpesa</td>\n",
              "      <td>KP4YUALFXF</td>\n",
              "      <td>27-11-17</td>\n",
              "      <td>7:09</td>\n",
              "      <td>Homa Bay</td>\n",
              "      <td>Nairobi</td>\n",
              "      <td>Bus</td>\n",
              "      <td>49</td>\n",
              "      <td>26</td>\n",
              "    </tr>\n",
              "    <tr>\n",
              "      <th>32</th>\n",
              "      <td>5781</td>\n",
              "      <td>19A</td>\n",
              "      <td>Mpesa</td>\n",
              "      <td>FQCTDRN1LT</td>\n",
              "      <td>27-11-17</td>\n",
              "      <td>7:09</td>\n",
              "      <td>Homa Bay</td>\n",
              "      <td>Nairobi</td>\n",
              "      <td>Bus</td>\n",
              "      <td>49</td>\n",
              "      <td>26</td>\n",
              "    </tr>\n",
              "    <tr>\n",
              "      <th>49</th>\n",
              "      <td>5781</td>\n",
              "      <td>20A</td>\n",
              "      <td>Mpesa</td>\n",
              "      <td>LLYH4A55XX</td>\n",
              "      <td>27-11-17</td>\n",
              "      <td>7:09</td>\n",
              "      <td>Homa Bay</td>\n",
              "      <td>Nairobi</td>\n",
              "      <td>Bus</td>\n",
              "      <td>49</td>\n",
              "      <td>26</td>\n",
              "    </tr>\n",
              "    <tr>\n",
              "      <th>51</th>\n",
              "      <td>5781</td>\n",
              "      <td>21B</td>\n",
              "      <td>Mpesa</td>\n",
              "      <td>N8WSXZIJXH</td>\n",
              "      <td>27-11-17</td>\n",
              "      <td>7:09</td>\n",
              "      <td>Homa Bay</td>\n",
              "      <td>Nairobi</td>\n",
              "      <td>Bus</td>\n",
              "      <td>49</td>\n",
              "      <td>26</td>\n",
              "    </tr>\n",
              "    <tr>\n",
              "      <th>64</th>\n",
              "      <td>5781</td>\n",
              "      <td>22B</td>\n",
              "      <td>Mpesa</td>\n",
              "      <td>DH4N6WAAWO</td>\n",
              "      <td>27-11-17</td>\n",
              "      <td>7:09</td>\n",
              "      <td>Homa Bay</td>\n",
              "      <td>Nairobi</td>\n",
              "      <td>Bus</td>\n",
              "      <td>49</td>\n",
              "      <td>26</td>\n",
              "    </tr>\n",
              "    <tr>\n",
              "      <th>65</th>\n",
              "      <td>5781</td>\n",
              "      <td>25</td>\n",
              "      <td>Mpesa</td>\n",
              "      <td>0JQ0ZZLUMI</td>\n",
              "      <td>27-11-17</td>\n",
              "      <td>7:09</td>\n",
              "      <td>Homa Bay</td>\n",
              "      <td>Nairobi</td>\n",
              "      <td>Bus</td>\n",
              "      <td>49</td>\n",
              "      <td>26</td>\n",
              "    </tr>\n",
              "    <tr>\n",
              "      <th>66</th>\n",
              "      <td>5781</td>\n",
              "      <td>23B</td>\n",
              "      <td>Mpesa</td>\n",
              "      <td>IOEJGXJ3HJ</td>\n",
              "      <td>27-11-17</td>\n",
              "      <td>7:09</td>\n",
              "      <td>Homa Bay</td>\n",
              "      <td>Nairobi</td>\n",
              "      <td>Bus</td>\n",
              "      <td>49</td>\n",
              "      <td>26</td>\n",
              "    </tr>\n",
              "    <tr>\n",
              "      <th>67</th>\n",
              "      <td>5781</td>\n",
              "      <td>24A</td>\n",
              "      <td>Mpesa</td>\n",
              "      <td>DP7LOX778I</td>\n",
              "      <td>27-11-17</td>\n",
              "      <td>7:09</td>\n",
              "      <td>Homa Bay</td>\n",
              "      <td>Nairobi</td>\n",
              "      <td>Bus</td>\n",
              "      <td>49</td>\n",
              "      <td>26</td>\n",
              "    </tr>\n",
              "    <tr>\n",
              "      <th>72</th>\n",
              "      <td>5781</td>\n",
              "      <td>1B</td>\n",
              "      <td>Mpesa</td>\n",
              "      <td>VRNDLYLUG9</td>\n",
              "      <td>27-11-17</td>\n",
              "      <td>7:09</td>\n",
              "      <td>Homa Bay</td>\n",
              "      <td>Nairobi</td>\n",
              "      <td>Bus</td>\n",
              "      <td>49</td>\n",
              "      <td>26</td>\n",
              "    </tr>\n",
              "    <tr>\n",
              "      <th>75</th>\n",
              "      <td>5781</td>\n",
              "      <td>2B</td>\n",
              "      <td>Mpesa</td>\n",
              "      <td>MSJ98CJ30N</td>\n",
              "      <td>27-11-17</td>\n",
              "      <td>7:09</td>\n",
              "      <td>Homa Bay</td>\n",
              "      <td>Nairobi</td>\n",
              "      <td>Bus</td>\n",
              "      <td>49</td>\n",
              "      <td>26</td>\n",
              "    </tr>\n",
              "    <tr>\n",
              "      <th>79</th>\n",
              "      <td>5781</td>\n",
              "      <td>9A</td>\n",
              "      <td>Mpesa</td>\n",
              "      <td>HQ8O4RAK8O</td>\n",
              "      <td>27-11-17</td>\n",
              "      <td>7:09</td>\n",
              "      <td>Homa Bay</td>\n",
              "      <td>Nairobi</td>\n",
              "      <td>Bus</td>\n",
              "      <td>49</td>\n",
              "      <td>26</td>\n",
              "    </tr>\n",
              "    <tr>\n",
              "      <th>86</th>\n",
              "      <td>5781</td>\n",
              "      <td>24B</td>\n",
              "      <td>Mpesa</td>\n",
              "      <td>67VCHU9I42</td>\n",
              "      <td>27-11-17</td>\n",
              "      <td>7:09</td>\n",
              "      <td>Homa Bay</td>\n",
              "      <td>Nairobi</td>\n",
              "      <td>Bus</td>\n",
              "      <td>49</td>\n",
              "      <td>26</td>\n",
              "    </tr>\n",
              "    <tr>\n",
              "      <th>87</th>\n",
              "      <td>5781</td>\n",
              "      <td>13B</td>\n",
              "      <td>Mpesa</td>\n",
              "      <td>DAB6BFCPW7</td>\n",
              "      <td>27-11-17</td>\n",
              "      <td>7:09</td>\n",
              "      <td>Homa Bay</td>\n",
              "      <td>Nairobi</td>\n",
              "      <td>Bus</td>\n",
              "      <td>49</td>\n",
              "      <td>26</td>\n",
              "    </tr>\n",
              "    <tr>\n",
              "      <th>88</th>\n",
              "      <td>5781</td>\n",
              "      <td>14B</td>\n",
              "      <td>Mpesa</td>\n",
              "      <td>BZUTNE0QPS</td>\n",
              "      <td>27-11-17</td>\n",
              "      <td>7:09</td>\n",
              "      <td>Homa Bay</td>\n",
              "      <td>Nairobi</td>\n",
              "      <td>Bus</td>\n",
              "      <td>49</td>\n",
              "      <td>26</td>\n",
              "    </tr>\n",
              "    <tr>\n",
              "      <th>92</th>\n",
              "      <td>5781</td>\n",
              "      <td>20B</td>\n",
              "      <td>Mpesa</td>\n",
              "      <td>CVEAOTNBHV</td>\n",
              "      <td>27-11-17</td>\n",
              "      <td>7:09</td>\n",
              "      <td>Homa Bay</td>\n",
              "      <td>Nairobi</td>\n",
              "      <td>Bus</td>\n",
              "      <td>49</td>\n",
              "      <td>26</td>\n",
              "    </tr>\n",
              "    <tr>\n",
              "      <th>93</th>\n",
              "      <td>5781</td>\n",
              "      <td>19B</td>\n",
              "      <td>Mpesa</td>\n",
              "      <td>SU5JYZPJKN</td>\n",
              "      <td>27-11-17</td>\n",
              "      <td>7:09</td>\n",
              "      <td>Homa Bay</td>\n",
              "      <td>Nairobi</td>\n",
              "      <td>Bus</td>\n",
              "      <td>49</td>\n",
              "      <td>26</td>\n",
              "    </tr>\n",
              "    <tr>\n",
              "      <th>102</th>\n",
              "      <td>5781</td>\n",
              "      <td>10A</td>\n",
              "      <td>Mpesa</td>\n",
              "      <td>6DFFBV9IOS</td>\n",
              "      <td>27-11-17</td>\n",
              "      <td>7:09</td>\n",
              "      <td>Homa Bay</td>\n",
              "      <td>Nairobi</td>\n",
              "      <td>Bus</td>\n",
              "      <td>49</td>\n",
              "      <td>26</td>\n",
              "    </tr>\n",
              "    <tr>\n",
              "      <th>138</th>\n",
              "      <td>5781</td>\n",
              "      <td>23A</td>\n",
              "      <td>Mpesa</td>\n",
              "      <td>ARRAMGNNSO</td>\n",
              "      <td>27-11-17</td>\n",
              "      <td>7:09</td>\n",
              "      <td>Homa Bay</td>\n",
              "      <td>Nairobi</td>\n",
              "      <td>Bus</td>\n",
              "      <td>49</td>\n",
              "      <td>26</td>\n",
              "    </tr>\n",
              "    <tr>\n",
              "      <th>171</th>\n",
              "      <td>5781</td>\n",
              "      <td>15B</td>\n",
              "      <td>Mpesa</td>\n",
              "      <td>XWK3QBQBXU</td>\n",
              "      <td>27-11-17</td>\n",
              "      <td>7:09</td>\n",
              "      <td>Homa Bay</td>\n",
              "      <td>Nairobi</td>\n",
              "      <td>Bus</td>\n",
              "      <td>49</td>\n",
              "      <td>26</td>\n",
              "    </tr>\n",
              "    <tr>\n",
              "      <th>208</th>\n",
              "      <td>5781</td>\n",
              "      <td>16B</td>\n",
              "      <td>Mpesa</td>\n",
              "      <td>FQNLNXBVPK</td>\n",
              "      <td>27-11-17</td>\n",
              "      <td>7:09</td>\n",
              "      <td>Homa Bay</td>\n",
              "      <td>Nairobi</td>\n",
              "      <td>Bus</td>\n",
              "      <td>49</td>\n",
              "      <td>26</td>\n",
              "    </tr>\n",
              "    <tr>\n",
              "      <th>209</th>\n",
              "      <td>5781</td>\n",
              "      <td>13A</td>\n",
              "      <td>Mpesa</td>\n",
              "      <td>3WFOTCSMD6</td>\n",
              "      <td>27-11-17</td>\n",
              "      <td>7:09</td>\n",
              "      <td>Homa Bay</td>\n",
              "      <td>Nairobi</td>\n",
              "      <td>Bus</td>\n",
              "      <td>49</td>\n",
              "      <td>26</td>\n",
              "    </tr>\n",
              "    <tr>\n",
              "      <th>230</th>\n",
              "      <td>5781</td>\n",
              "      <td>8A</td>\n",
              "      <td>Mpesa</td>\n",
              "      <td>AZEB2YJ0RL</td>\n",
              "      <td>27-11-17</td>\n",
              "      <td>7:09</td>\n",
              "      <td>Homa Bay</td>\n",
              "      <td>Nairobi</td>\n",
              "      <td>Bus</td>\n",
              "      <td>49</td>\n",
              "      <td>26</td>\n",
              "    </tr>\n",
              "    <tr>\n",
              "      <th>249</th>\n",
              "      <td>5781</td>\n",
              "      <td>5B</td>\n",
              "      <td>Mpesa</td>\n",
              "      <td>AT7EENPSPO</td>\n",
              "      <td>27-11-17</td>\n",
              "      <td>7:09</td>\n",
              "      <td>Homa Bay</td>\n",
              "      <td>Nairobi</td>\n",
              "      <td>Bus</td>\n",
              "      <td>49</td>\n",
              "      <td>26</td>\n",
              "    </tr>\n",
              "    <tr>\n",
              "      <th>48490</th>\n",
              "      <td>13423</td>\n",
              "      <td>21A</td>\n",
              "      <td>Mpesa</td>\n",
              "      <td>J45Q6B7FVO</td>\n",
              "      <td>27-11-17</td>\n",
              "      <td>7:09</td>\n",
              "      <td>Kisii</td>\n",
              "      <td>Nairobi</td>\n",
              "      <td>Bus</td>\n",
              "      <td>49</td>\n",
              "      <td>1</td>\n",
              "    </tr>\n",
              "  </tbody>\n",
              "</table>\n",
              "</div>"
            ],
            "text/plain": [
              "       ride_id seat_number  ... max_capacity seats_occupied\n",
              "9         5781         22A  ...           49             26\n",
              "10        5781         18B  ...           49             26\n",
              "11        5781         17B  ...           49             26\n",
              "21        5781         18A  ...           49             26\n",
              "32        5781         19A  ...           49             26\n",
              "49        5781         20A  ...           49             26\n",
              "51        5781         21B  ...           49             26\n",
              "64        5781         22B  ...           49             26\n",
              "65        5781          25  ...           49             26\n",
              "66        5781         23B  ...           49             26\n",
              "67        5781         24A  ...           49             26\n",
              "72        5781          1B  ...           49             26\n",
              "75        5781          2B  ...           49             26\n",
              "79        5781          9A  ...           49             26\n",
              "86        5781         24B  ...           49             26\n",
              "87        5781         13B  ...           49             26\n",
              "88        5781         14B  ...           49             26\n",
              "92        5781         20B  ...           49             26\n",
              "93        5781         19B  ...           49             26\n",
              "102       5781         10A  ...           49             26\n",
              "138       5781         23A  ...           49             26\n",
              "171       5781         15B  ...           49             26\n",
              "208       5781         16B  ...           49             26\n",
              "209       5781         13A  ...           49             26\n",
              "230       5781          8A  ...           49             26\n",
              "249       5781          5B  ...           49             26\n",
              "48490    13423         21A  ...           49              1\n",
              "\n",
              "[27 rows x 11 columns]"
            ]
          },
          "metadata": {
            "tags": []
          },
          "execution_count": 166
        }
      ]
    },
    {
      "cell_type": "code",
      "metadata": {
        "id": "fuX8W6w_fYrj",
        "colab": {
          "base_uri": "https://localhost:8080/",
          "height": 300
        },
        "outputId": "7754e483-0fea-4a50-b110-7400faa383f4"
      },
      "source": [
        "df.describe()"
      ],
      "execution_count": 134,
      "outputs": [
        {
          "output_type": "execute_result",
          "data": {
            "text/html": [
              "<div>\n",
              "<style scoped>\n",
              "    .dataframe tbody tr th:only-of-type {\n",
              "        vertical-align: middle;\n",
              "    }\n",
              "\n",
              "    .dataframe tbody tr th {\n",
              "        vertical-align: top;\n",
              "    }\n",
              "\n",
              "    .dataframe thead th {\n",
              "        text-align: right;\n",
              "    }\n",
              "</style>\n",
              "<table border=\"1\" class=\"dataframe\">\n",
              "  <thead>\n",
              "    <tr style=\"text-align: right;\">\n",
              "      <th></th>\n",
              "      <th>ride_id</th>\n",
              "      <th>max_capacity</th>\n",
              "      <th>seats_occupied</th>\n",
              "    </tr>\n",
              "  </thead>\n",
              "  <tbody>\n",
              "    <tr>\n",
              "      <th>count</th>\n",
              "      <td>51645.000000</td>\n",
              "      <td>51645.000000</td>\n",
              "      <td>51645.000000</td>\n",
              "    </tr>\n",
              "    <tr>\n",
              "      <th>mean</th>\n",
              "      <td>10188.645793</td>\n",
              "      <td>34.534321</td>\n",
              "      <td>17.281692</td>\n",
              "    </tr>\n",
              "    <tr>\n",
              "      <th>std</th>\n",
              "      <td>2211.295708</td>\n",
              "      <td>18.451193</td>\n",
              "      <td>12.375502</td>\n",
              "    </tr>\n",
              "    <tr>\n",
              "      <th>min</th>\n",
              "      <td>1442.000000</td>\n",
              "      <td>11.000000</td>\n",
              "      <td>1.000000</td>\n",
              "    </tr>\n",
              "    <tr>\n",
              "      <th>25%</th>\n",
              "      <td>8287.000000</td>\n",
              "      <td>11.000000</td>\n",
              "      <td>9.000000</td>\n",
              "    </tr>\n",
              "    <tr>\n",
              "      <th>50%</th>\n",
              "      <td>10353.000000</td>\n",
              "      <td>49.000000</td>\n",
              "      <td>11.000000</td>\n",
              "    </tr>\n",
              "    <tr>\n",
              "      <th>75%</th>\n",
              "      <td>12029.000000</td>\n",
              "      <td>49.000000</td>\n",
              "      <td>26.000000</td>\n",
              "    </tr>\n",
              "    <tr>\n",
              "      <th>max</th>\n",
              "      <td>20117.000000</td>\n",
              "      <td>49.000000</td>\n",
              "      <td>50.000000</td>\n",
              "    </tr>\n",
              "  </tbody>\n",
              "</table>\n",
              "</div>"
            ],
            "text/plain": [
              "            ride_id  max_capacity  seats_occupied\n",
              "count  51645.000000  51645.000000    51645.000000\n",
              "mean   10188.645793     34.534321       17.281692\n",
              "std     2211.295708     18.451193       12.375502\n",
              "min     1442.000000     11.000000        1.000000\n",
              "25%     8287.000000     11.000000        9.000000\n",
              "50%    10353.000000     49.000000       11.000000\n",
              "75%    12029.000000     49.000000       26.000000\n",
              "max    20117.000000     49.000000       50.000000"
            ]
          },
          "metadata": {
            "tags": []
          },
          "execution_count": 134
        }
      ]
    },
    {
      "cell_type": "code",
      "metadata": {
        "id": "-JgZrwk-8fDx",
        "colab": {
          "base_uri": "https://localhost:8080/",
          "height": 206
        },
        "outputId": "cefb39ca-e61f-427f-83db-ffff3c7f468d"
      },
      "source": [
        "df[df['seats_occupied']==50].head()"
      ],
      "execution_count": 135,
      "outputs": [
        {
          "output_type": "execute_result",
          "data": {
            "text/html": [
              "<div>\n",
              "<style scoped>\n",
              "    .dataframe tbody tr th:only-of-type {\n",
              "        vertical-align: middle;\n",
              "    }\n",
              "\n",
              "    .dataframe tbody tr th {\n",
              "        vertical-align: top;\n",
              "    }\n",
              "\n",
              "    .dataframe thead th {\n",
              "        text-align: right;\n",
              "    }\n",
              "</style>\n",
              "<table border=\"1\" class=\"dataframe\">\n",
              "  <thead>\n",
              "    <tr style=\"text-align: right;\">\n",
              "      <th></th>\n",
              "      <th>ride_id</th>\n",
              "      <th>seat_number</th>\n",
              "      <th>payment_method</th>\n",
              "      <th>payment_receipt</th>\n",
              "      <th>travel_date</th>\n",
              "      <th>travel_time</th>\n",
              "      <th>travel_from</th>\n",
              "      <th>travel_to</th>\n",
              "      <th>car_type</th>\n",
              "      <th>max_capacity</th>\n",
              "      <th>seats_occupied</th>\n",
              "    </tr>\n",
              "  </thead>\n",
              "  <tbody>\n",
              "    <tr>\n",
              "      <th>14020</th>\n",
              "      <td>8454</td>\n",
              "      <td>18A</td>\n",
              "      <td>Mpesa</td>\n",
              "      <td>RPOXVAJVME</td>\n",
              "      <td>09-01-18</td>\n",
              "      <td>7:00</td>\n",
              "      <td>Sirare</td>\n",
              "      <td>Nairobi</td>\n",
              "      <td>Bus</td>\n",
              "      <td>49</td>\n",
              "      <td>50</td>\n",
              "    </tr>\n",
              "    <tr>\n",
              "      <th>14021</th>\n",
              "      <td>8454</td>\n",
              "      <td>17A</td>\n",
              "      <td>Mpesa</td>\n",
              "      <td>MLT0APU7IV</td>\n",
              "      <td>09-01-18</td>\n",
              "      <td>7:00</td>\n",
              "      <td>Sirare</td>\n",
              "      <td>Nairobi</td>\n",
              "      <td>Bus</td>\n",
              "      <td>49</td>\n",
              "      <td>50</td>\n",
              "    </tr>\n",
              "    <tr>\n",
              "      <th>14022</th>\n",
              "      <td>8454</td>\n",
              "      <td>12B</td>\n",
              "      <td>Mpesa</td>\n",
              "      <td>VMWIO5SZRU</td>\n",
              "      <td>09-01-18</td>\n",
              "      <td>7:00</td>\n",
              "      <td>Sirare</td>\n",
              "      <td>Nairobi</td>\n",
              "      <td>Bus</td>\n",
              "      <td>49</td>\n",
              "      <td>50</td>\n",
              "    </tr>\n",
              "    <tr>\n",
              "      <th>14023</th>\n",
              "      <td>8454</td>\n",
              "      <td>12A</td>\n",
              "      <td>Mpesa</td>\n",
              "      <td>VYZXWTUEAX</td>\n",
              "      <td>09-01-18</td>\n",
              "      <td>7:00</td>\n",
              "      <td>Sirare</td>\n",
              "      <td>Nairobi</td>\n",
              "      <td>Bus</td>\n",
              "      <td>49</td>\n",
              "      <td>50</td>\n",
              "    </tr>\n",
              "    <tr>\n",
              "      <th>14026</th>\n",
              "      <td>8454</td>\n",
              "      <td>10A</td>\n",
              "      <td>Mpesa</td>\n",
              "      <td>LJVXBMLNW6</td>\n",
              "      <td>09-01-18</td>\n",
              "      <td>7:00</td>\n",
              "      <td>Sirare</td>\n",
              "      <td>Nairobi</td>\n",
              "      <td>Bus</td>\n",
              "      <td>49</td>\n",
              "      <td>50</td>\n",
              "    </tr>\n",
              "  </tbody>\n",
              "</table>\n",
              "</div>"
            ],
            "text/plain": [
              "       ride_id seat_number  ... max_capacity seats_occupied\n",
              "14020     8454         18A  ...           49             50\n",
              "14021     8454         17A  ...           49             50\n",
              "14022     8454         12B  ...           49             50\n",
              "14023     8454         12A  ...           49             50\n",
              "14026     8454         10A  ...           49             50\n",
              "\n",
              "[5 rows x 11 columns]"
            ]
          },
          "metadata": {
            "tags": []
          },
          "execution_count": 135
        }
      ]
    },
    {
      "cell_type": "code",
      "metadata": {
        "id": "_21PoyVIho_w",
        "colab": {
          "base_uri": "https://localhost:8080/"
        },
        "outputId": "43d4fb63-2048-489b-f636-cafa03a884a1"
      },
      "source": [
        "df['payment_method'].unique()"
      ],
      "execution_count": 136,
      "outputs": [
        {
          "output_type": "execute_result",
          "data": {
            "text/plain": [
              "array(['Mpesa', 'Cash'], dtype=object)"
            ]
          },
          "metadata": {
            "tags": []
          },
          "execution_count": 136
        }
      ]
    },
    {
      "cell_type": "code",
      "metadata": {
        "id": "G7qSjVs-DmUB",
        "colab": {
          "base_uri": "https://localhost:8080/"
        },
        "outputId": "be29b3a2-acc9-4f3d-d84a-b244c41b5e40"
      },
      "source": [
        "df['car_type'].unique()"
      ],
      "execution_count": 137,
      "outputs": [
        {
          "output_type": "execute_result",
          "data": {
            "text/plain": [
              "array(['Bus', 'shuttle'], dtype=object)"
            ]
          },
          "metadata": {
            "tags": []
          },
          "execution_count": 137
        }
      ]
    },
    {
      "cell_type": "code",
      "metadata": {
        "id": "uhW9LgabD89J",
        "colab": {
          "base_uri": "https://localhost:8080/",
          "height": 423
        },
        "outputId": "0db9c455-7978-463e-ee53-f9d27a7a9d24"
      },
      "source": [
        "df[(df['car_type']=='shuttle')]\n"
      ],
      "execution_count": 138,
      "outputs": [
        {
          "output_type": "execute_result",
          "data": {
            "text/html": [
              "<div>\n",
              "<style scoped>\n",
              "    .dataframe tbody tr th:only-of-type {\n",
              "        vertical-align: middle;\n",
              "    }\n",
              "\n",
              "    .dataframe tbody tr th {\n",
              "        vertical-align: top;\n",
              "    }\n",
              "\n",
              "    .dataframe thead th {\n",
              "        text-align: right;\n",
              "    }\n",
              "</style>\n",
              "<table border=\"1\" class=\"dataframe\">\n",
              "  <thead>\n",
              "    <tr style=\"text-align: right;\">\n",
              "      <th></th>\n",
              "      <th>ride_id</th>\n",
              "      <th>seat_number</th>\n",
              "      <th>payment_method</th>\n",
              "      <th>payment_receipt</th>\n",
              "      <th>travel_date</th>\n",
              "      <th>travel_time</th>\n",
              "      <th>travel_from</th>\n",
              "      <th>travel_to</th>\n",
              "      <th>car_type</th>\n",
              "      <th>max_capacity</th>\n",
              "      <th>seats_occupied</th>\n",
              "    </tr>\n",
              "  </thead>\n",
              "  <tbody>\n",
              "    <tr>\n",
              "      <th>12</th>\n",
              "      <td>5784</td>\n",
              "      <td>1X</td>\n",
              "      <td>Mpesa</td>\n",
              "      <td>3OPU23FHRB</td>\n",
              "      <td>20-04-18</td>\n",
              "      <td>5:10</td>\n",
              "      <td>Kisii</td>\n",
              "      <td>Nairobi</td>\n",
              "      <td>shuttle</td>\n",
              "      <td>11</td>\n",
              "      <td>1</td>\n",
              "    </tr>\n",
              "    <tr>\n",
              "      <th>13</th>\n",
              "      <td>5789</td>\n",
              "      <td>1X</td>\n",
              "      <td>Mpesa</td>\n",
              "      <td>BPRX4UMFFN</td>\n",
              "      <td>20-04-18</td>\n",
              "      <td>9:50</td>\n",
              "      <td>Kisii</td>\n",
              "      <td>Nairobi</td>\n",
              "      <td>shuttle</td>\n",
              "      <td>11</td>\n",
              "      <td>1</td>\n",
              "    </tr>\n",
              "    <tr>\n",
              "      <th>16</th>\n",
              "      <td>5791</td>\n",
              "      <td>1</td>\n",
              "      <td>Mpesa</td>\n",
              "      <td>HGQURN0SZS</td>\n",
              "      <td>20-04-18</td>\n",
              "      <td>6:00</td>\n",
              "      <td>Kisii</td>\n",
              "      <td>Nairobi</td>\n",
              "      <td>shuttle</td>\n",
              "      <td>11</td>\n",
              "      <td>1</td>\n",
              "    </tr>\n",
              "    <tr>\n",
              "      <th>17</th>\n",
              "      <td>5792</td>\n",
              "      <td>1</td>\n",
              "      <td>Mpesa</td>\n",
              "      <td>8D9V8HK2FC</td>\n",
              "      <td>20-04-18</td>\n",
              "      <td>5:50</td>\n",
              "      <td>Kisii</td>\n",
              "      <td>Nairobi</td>\n",
              "      <td>shuttle</td>\n",
              "      <td>11</td>\n",
              "      <td>1</td>\n",
              "    </tr>\n",
              "    <tr>\n",
              "      <th>18</th>\n",
              "      <td>5793</td>\n",
              "      <td>1</td>\n",
              "      <td>Mpesa</td>\n",
              "      <td>TTZQDYZHAB</td>\n",
              "      <td>20-04-18</td>\n",
              "      <td>10:58</td>\n",
              "      <td>Kisii</td>\n",
              "      <td>Nairobi</td>\n",
              "      <td>shuttle</td>\n",
              "      <td>11</td>\n",
              "      <td>1</td>\n",
              "    </tr>\n",
              "    <tr>\n",
              "      <th>...</th>\n",
              "      <td>...</td>\n",
              "      <td>...</td>\n",
              "      <td>...</td>\n",
              "      <td>...</td>\n",
              "      <td>...</td>\n",
              "      <td>...</td>\n",
              "      <td>...</td>\n",
              "      <td>...</td>\n",
              "      <td>...</td>\n",
              "      <td>...</td>\n",
              "      <td>...</td>\n",
              "    </tr>\n",
              "    <tr>\n",
              "      <th>51107</th>\n",
              "      <td>13761</td>\n",
              "      <td>2</td>\n",
              "      <td>Mpesa</td>\n",
              "      <td>VCDOGNVTG2</td>\n",
              "      <td>27-11-17</td>\n",
              "      <td>5:00</td>\n",
              "      <td>Kisii</td>\n",
              "      <td>Nairobi</td>\n",
              "      <td>shuttle</td>\n",
              "      <td>11</td>\n",
              "      <td>2</td>\n",
              "    </tr>\n",
              "    <tr>\n",
              "      <th>51156</th>\n",
              "      <td>13769</td>\n",
              "      <td>5</td>\n",
              "      <td>Mpesa</td>\n",
              "      <td>PU4LHLHZVC</td>\n",
              "      <td>19-04-18</td>\n",
              "      <td>6:20</td>\n",
              "      <td>Kijauri</td>\n",
              "      <td>Nairobi</td>\n",
              "      <td>shuttle</td>\n",
              "      <td>11</td>\n",
              "      <td>1</td>\n",
              "    </tr>\n",
              "    <tr>\n",
              "      <th>51195</th>\n",
              "      <td>13761</td>\n",
              "      <td>1</td>\n",
              "      <td>Mpesa</td>\n",
              "      <td>AQGYCPOGLQ</td>\n",
              "      <td>27-11-17</td>\n",
              "      <td>5:00</td>\n",
              "      <td>Kisii</td>\n",
              "      <td>Nairobi</td>\n",
              "      <td>shuttle</td>\n",
              "      <td>11</td>\n",
              "      <td>2</td>\n",
              "    </tr>\n",
              "    <tr>\n",
              "      <th>51468</th>\n",
              "      <td>13804</td>\n",
              "      <td>5</td>\n",
              "      <td>Mpesa</td>\n",
              "      <td>D8LAUAHLFB</td>\n",
              "      <td>20-04-18</td>\n",
              "      <td>7:50</td>\n",
              "      <td>Kijauri</td>\n",
              "      <td>Nairobi</td>\n",
              "      <td>shuttle</td>\n",
              "      <td>11</td>\n",
              "      <td>1</td>\n",
              "    </tr>\n",
              "    <tr>\n",
              "      <th>51469</th>\n",
              "      <td>13805</td>\n",
              "      <td>4</td>\n",
              "      <td>Mpesa</td>\n",
              "      <td>BFOBL0JHHT</td>\n",
              "      <td>20-04-18</td>\n",
              "      <td>6:30</td>\n",
              "      <td>Kijauri</td>\n",
              "      <td>Nairobi</td>\n",
              "      <td>shuttle</td>\n",
              "      <td>11</td>\n",
              "      <td>1</td>\n",
              "    </tr>\n",
              "  </tbody>\n",
              "</table>\n",
              "<p>19660 rows × 11 columns</p>\n",
              "</div>"
            ],
            "text/plain": [
              "       ride_id seat_number  ... max_capacity seats_occupied\n",
              "12        5784          1X  ...           11              1\n",
              "13        5789          1X  ...           11              1\n",
              "16        5791           1  ...           11              1\n",
              "17        5792           1  ...           11              1\n",
              "18        5793           1  ...           11              1\n",
              "...        ...         ...  ...          ...            ...\n",
              "51107    13761           2  ...           11              2\n",
              "51156    13769           5  ...           11              1\n",
              "51195    13761           1  ...           11              2\n",
              "51468    13804           5  ...           11              1\n",
              "51469    13805           4  ...           11              1\n",
              "\n",
              "[19660 rows x 11 columns]"
            ]
          },
          "metadata": {
            "tags": []
          },
          "execution_count": 138
        }
      ]
    },
    {
      "cell_type": "code",
      "metadata": {
        "id": "ta0oQDBSAG_R",
        "colab": {
          "base_uri": "https://localhost:8080/",
          "height": 352
        },
        "outputId": "c5066162-a787-4994-e093-b3bad05a43da"
      },
      "source": [
        "sns.distplot(df[df['car_type']=='Bus']['seats_occupied'])"
      ],
      "execution_count": 139,
      "outputs": [
        {
          "output_type": "stream",
          "text": [
            "/usr/local/lib/python3.7/dist-packages/seaborn/distributions.py:2557: FutureWarning: `distplot` is a deprecated function and will be removed in a future version. Please adapt your code to use either `displot` (a figure-level function with similar flexibility) or `histplot` (an axes-level function for histograms).\n",
            "  warnings.warn(msg, FutureWarning)\n"
          ],
          "name": "stderr"
        },
        {
          "output_type": "execute_result",
          "data": {
            "text/plain": [
              "<matplotlib.axes._subplots.AxesSubplot at 0x7fca9d370550>"
            ]
          },
          "metadata": {
            "tags": []
          },
          "execution_count": 139
        },
        {
          "output_type": "display_data",
          "data": {
            "image/png": "[encoded data removed]",
            "text/plain": [
              "<Figure size 432x288 with 1 Axes>"
            ]
          },
          "metadata": {
            "tags": [],
            "needs_background": "light"
          }
        }
      ]
    },
    {
      "cell_type": "code",
      "metadata": {
        "id": "z6u4DG7lDQo1",
        "colab": {
          "base_uri": "https://localhost:8080/",
          "height": 352
        },
        "outputId": "1034d7af-df34-414a-f1ed-2067b82bbe89"
      },
      "source": [
        "sns.distplot(df[df['car_type']=='shuttle']['seats_occupied'])"
      ],
      "execution_count": 140,
      "outputs": [
        {
          "output_type": "stream",
          "text": [
            "/usr/local/lib/python3.7/dist-packages/seaborn/distributions.py:2557: FutureWarning: `distplot` is a deprecated function and will be removed in a future version. Please adapt your code to use either `displot` (a figure-level function with similar flexibility) or `histplot` (an axes-level function for histograms).\n",
            "  warnings.warn(msg, FutureWarning)\n"
          ],
          "name": "stderr"
        },
        {
          "output_type": "execute_result",
          "data": {
            "text/plain": [
              "<matplotlib.axes._subplots.AxesSubplot at 0x7fca9aac5110>"
            ]
          },
          "metadata": {
            "tags": []
          },
          "execution_count": 140
        },
        {
          "output_type": "display_data",
          "data": {
            "image/png": "[encoded data removed]",
            "text/plain": [
              "<Figure size 432x288 with 1 Axes>"
            ]
          },
          "metadata": {
            "tags": [],
            "needs_background": "light"
          }
        }
      ]
    },
    {
      "cell_type": "code",
      "metadata": {
        "id": "sJ4iloomDruK",
        "colab": {
          "base_uri": "https://localhost:8080/",
          "height": 423
        },
        "outputId": "21497778-3700-49bb-979f-9802b8c57de2"
      },
      "source": [
        "df[df['max_capacity']<df['seats_occupied']]\n",
        "  "
      ],
      "execution_count": 141,
      "outputs": [
        {
          "output_type": "execute_result",
          "data": {
            "text/html": [
              "<div>\n",
              "<style scoped>\n",
              "    .dataframe tbody tr th:only-of-type {\n",
              "        vertical-align: middle;\n",
              "    }\n",
              "\n",
              "    .dataframe tbody tr th {\n",
              "        vertical-align: top;\n",
              "    }\n",
              "\n",
              "    .dataframe thead th {\n",
              "        text-align: right;\n",
              "    }\n",
              "</style>\n",
              "<table border=\"1\" class=\"dataframe\">\n",
              "  <thead>\n",
              "    <tr style=\"text-align: right;\">\n",
              "      <th></th>\n",
              "      <th>ride_id</th>\n",
              "      <th>seat_number</th>\n",
              "      <th>payment_method</th>\n",
              "      <th>payment_receipt</th>\n",
              "      <th>travel_date</th>\n",
              "      <th>travel_time</th>\n",
              "      <th>travel_from</th>\n",
              "      <th>travel_to</th>\n",
              "      <th>car_type</th>\n",
              "      <th>max_capacity</th>\n",
              "      <th>seats_occupied</th>\n",
              "    </tr>\n",
              "  </thead>\n",
              "  <tbody>\n",
              "    <tr>\n",
              "      <th>11858</th>\n",
              "      <td>8124</td>\n",
              "      <td>10</td>\n",
              "      <td>Mpesa</td>\n",
              "      <td>0JV6LE7DLQ</td>\n",
              "      <td>13-02-18</td>\n",
              "      <td>7:00</td>\n",
              "      <td>Kisii</td>\n",
              "      <td>Nairobi</td>\n",
              "      <td>shuttle</td>\n",
              "      <td>11</td>\n",
              "      <td>12</td>\n",
              "    </tr>\n",
              "    <tr>\n",
              "      <th>11867</th>\n",
              "      <td>8124</td>\n",
              "      <td>9</td>\n",
              "      <td>Mpesa</td>\n",
              "      <td>UWGS4FIL7R</td>\n",
              "      <td>13-02-18</td>\n",
              "      <td>7:00</td>\n",
              "      <td>Kisii</td>\n",
              "      <td>Nairobi</td>\n",
              "      <td>shuttle</td>\n",
              "      <td>11</td>\n",
              "      <td>12</td>\n",
              "    </tr>\n",
              "    <tr>\n",
              "      <th>11868</th>\n",
              "      <td>8124</td>\n",
              "      <td>1X</td>\n",
              "      <td>Mpesa</td>\n",
              "      <td>HIHF7UODUL</td>\n",
              "      <td>13-02-18</td>\n",
              "      <td>7:00</td>\n",
              "      <td>Kisii</td>\n",
              "      <td>Nairobi</td>\n",
              "      <td>shuttle</td>\n",
              "      <td>11</td>\n",
              "      <td>12</td>\n",
              "    </tr>\n",
              "    <tr>\n",
              "      <th>11869</th>\n",
              "      <td>8124</td>\n",
              "      <td>5</td>\n",
              "      <td>Mpesa</td>\n",
              "      <td>NS3ZEUHTLX</td>\n",
              "      <td>13-02-18</td>\n",
              "      <td>7:00</td>\n",
              "      <td>Kisii</td>\n",
              "      <td>Nairobi</td>\n",
              "      <td>shuttle</td>\n",
              "      <td>11</td>\n",
              "      <td>12</td>\n",
              "    </tr>\n",
              "    <tr>\n",
              "      <th>11870</th>\n",
              "      <td>8124</td>\n",
              "      <td>6</td>\n",
              "      <td>Mpesa</td>\n",
              "      <td>BLUBAEACXM</td>\n",
              "      <td>13-02-18</td>\n",
              "      <td>7:00</td>\n",
              "      <td>Kisii</td>\n",
              "      <td>Nairobi</td>\n",
              "      <td>shuttle</td>\n",
              "      <td>11</td>\n",
              "      <td>12</td>\n",
              "    </tr>\n",
              "    <tr>\n",
              "      <th>...</th>\n",
              "      <td>...</td>\n",
              "      <td>...</td>\n",
              "      <td>...</td>\n",
              "      <td>...</td>\n",
              "      <td>...</td>\n",
              "      <td>...</td>\n",
              "      <td>...</td>\n",
              "      <td>...</td>\n",
              "      <td>...</td>\n",
              "      <td>...</td>\n",
              "      <td>...</td>\n",
              "    </tr>\n",
              "    <tr>\n",
              "      <th>40630</th>\n",
              "      <td>12307</td>\n",
              "      <td>3</td>\n",
              "      <td>Cash</td>\n",
              "      <td>MCG9AZOATB</td>\n",
              "      <td>16-03-18</td>\n",
              "      <td>5:00</td>\n",
              "      <td>Keroka</td>\n",
              "      <td>Nairobi</td>\n",
              "      <td>shuttle</td>\n",
              "      <td>11</td>\n",
              "      <td>12</td>\n",
              "    </tr>\n",
              "    <tr>\n",
              "      <th>40631</th>\n",
              "      <td>12307</td>\n",
              "      <td>1X</td>\n",
              "      <td>Cash</td>\n",
              "      <td>MCG8AXV7VQ</td>\n",
              "      <td>16-03-18</td>\n",
              "      <td>5:00</td>\n",
              "      <td>Keroka</td>\n",
              "      <td>Nairobi</td>\n",
              "      <td>shuttle</td>\n",
              "      <td>11</td>\n",
              "      <td>12</td>\n",
              "    </tr>\n",
              "    <tr>\n",
              "      <th>40632</th>\n",
              "      <td>12307</td>\n",
              "      <td>3</td>\n",
              "      <td>Cash</td>\n",
              "      <td>SAKQGWLMQP</td>\n",
              "      <td>16-03-18</td>\n",
              "      <td>5:00</td>\n",
              "      <td>Keroka</td>\n",
              "      <td>Nairobi</td>\n",
              "      <td>shuttle</td>\n",
              "      <td>11</td>\n",
              "      <td>12</td>\n",
              "    </tr>\n",
              "    <tr>\n",
              "      <th>40633</th>\n",
              "      <td>12307</td>\n",
              "      <td>2</td>\n",
              "      <td>Cash</td>\n",
              "      <td>MCG1AXRHJ5</td>\n",
              "      <td>16-03-18</td>\n",
              "      <td>5:00</td>\n",
              "      <td>Keroka</td>\n",
              "      <td>Nairobi</td>\n",
              "      <td>shuttle</td>\n",
              "      <td>11</td>\n",
              "      <td>12</td>\n",
              "    </tr>\n",
              "    <tr>\n",
              "      <th>40634</th>\n",
              "      <td>12307</td>\n",
              "      <td>1</td>\n",
              "      <td>Cash</td>\n",
              "      <td>MCG5AXQG73</td>\n",
              "      <td>16-03-18</td>\n",
              "      <td>5:00</td>\n",
              "      <td>Keroka</td>\n",
              "      <td>Nairobi</td>\n",
              "      <td>shuttle</td>\n",
              "      <td>11</td>\n",
              "      <td>12</td>\n",
              "    </tr>\n",
              "  </tbody>\n",
              "</table>\n",
              "<p>194 rows × 11 columns</p>\n",
              "</div>"
            ],
            "text/plain": [
              "       ride_id seat_number  ... max_capacity seats_occupied\n",
              "11858     8124          10  ...           11             12\n",
              "11867     8124           9  ...           11             12\n",
              "11868     8124          1X  ...           11             12\n",
              "11869     8124           5  ...           11             12\n",
              "11870     8124           6  ...           11             12\n",
              "...        ...         ...  ...          ...            ...\n",
              "40630    12307           3  ...           11             12\n",
              "40631    12307          1X  ...           11             12\n",
              "40632    12307           3  ...           11             12\n",
              "40633    12307           2  ...           11             12\n",
              "40634    12307           1  ...           11             12\n",
              "\n",
              "[194 rows x 11 columns]"
            ]
          },
          "metadata": {
            "tags": []
          },
          "execution_count": 141
        }
      ]
    },
    {
      "cell_type": "code",
      "metadata": {
        "id": "ogFkybGAE8GC"
      },
      "source": [
        "df1=df.drop(columns={'payment_receipt','seat_number'})"
      ],
      "execution_count": 142,
      "outputs": []
    },
    {
      "cell_type": "code",
      "metadata": {
        "id": "9YQw6PHhHX6X"
      },
      "source": [
        "#df1=df1.drop_duplicates()"
      ],
      "execution_count": 143,
      "outputs": []
    },
    {
      "cell_type": "code",
      "metadata": {
        "id": "Ncd1vAWyH6rx",
        "colab": {
          "base_uri": "https://localhost:8080/"
        },
        "outputId": "949ac823-8a27-4d55-f4bc-d3336115bcc6"
      },
      "source": [
        "df1.shape"
      ],
      "execution_count": 144,
      "outputs": [
        {
          "output_type": "execute_result",
          "data": {
            "text/plain": [
              "(51645, 9)"
            ]
          },
          "metadata": {
            "tags": []
          },
          "execution_count": 144
        }
      ]
    },
    {
      "cell_type": "code",
      "metadata": {
        "id": "6vCEJ6rnJYVg"
      },
      "source": [
        "df2=pd.get_dummies(df1,columns=['payment_method','travel_from','car_type'],drop_first=True)"
      ],
      "execution_count": 145,
      "outputs": []
    },
    {
      "cell_type": "code",
      "metadata": {
        "id": "_XhRbBTMlJ-C"
      },
      "source": [
        "df2['date']=df2['travel_date'].apply(lambda x: x[0:2])"
      ],
      "execution_count": 146,
      "outputs": []
    },
    {
      "cell_type": "code",
      "metadata": {
        "id": "bPh-Tnmtljv4"
      },
      "source": [
        "df2['month']=df2['travel_date'].apply(lambda x: x[3:5])"
      ],
      "execution_count": 147,
      "outputs": []
    },
    {
      "cell_type": "code",
      "metadata": {
        "id": "PqCvZ81Blxam"
      },
      "source": [
        "df2['year']=df['travel_date'].apply(lambda x: x[6:8])"
      ],
      "execution_count": 148,
      "outputs": []
    },
    {
      "cell_type": "code",
      "metadata": {
        "id": "Qa8pe2ynJ4Ym"
      },
      "source": [
        "df2['hour']=df2['travel_time'].apply(lambda x: x.split(':')[0])"
      ],
      "execution_count": 149,
      "outputs": []
    },
    {
      "cell_type": "code",
      "metadata": {
        "id": "vijsItewmRTl"
      },
      "source": [
        "df2['minutes']=df2['travel_time'].apply(lambda x: x.split(':')[1])"
      ],
      "execution_count": 150,
      "outputs": []
    },
    {
      "cell_type": "code",
      "metadata": {
        "id": "MBY2J2AdIRme",
        "colab": {
          "base_uri": "https://localhost:8080/",
          "height": 243
        },
        "outputId": "5fb07e9c-9a1e-4a3f-ad56-d4b8672e532a"
      },
      "source": [
        "df2.head()"
      ],
      "execution_count": 151,
      "outputs": [
        {
          "output_type": "execute_result",
          "data": {
            "text/html": [
              "<div>\n",
              "<style scoped>\n",
              "    .dataframe tbody tr th:only-of-type {\n",
              "        vertical-align: middle;\n",
              "    }\n",
              "\n",
              "    .dataframe tbody tr th {\n",
              "        vertical-align: top;\n",
              "    }\n",
              "\n",
              "    .dataframe thead th {\n",
              "        text-align: right;\n",
              "    }\n",
              "</style>\n",
              "<table border=\"1\" class=\"dataframe\">\n",
              "  <thead>\n",
              "    <tr style=\"text-align: right;\">\n",
              "      <th></th>\n",
              "      <th>ride_id</th>\n",
              "      <th>travel_date</th>\n",
              "      <th>travel_time</th>\n",
              "      <th>travel_to</th>\n",
              "      <th>max_capacity</th>\n",
              "      <th>seats_occupied</th>\n",
              "      <th>payment_method_Mpesa</th>\n",
              "      <th>travel_from_Homa Bay</th>\n",
              "      <th>travel_from_Kehancha</th>\n",
              "      <th>travel_from_Kendu Bay</th>\n",
              "      <th>travel_from_Keroka</th>\n",
              "      <th>travel_from_Keumbu</th>\n",
              "      <th>travel_from_Kijauri</th>\n",
              "      <th>travel_from_Kisii</th>\n",
              "      <th>travel_from_Mbita</th>\n",
              "      <th>travel_from_Migori</th>\n",
              "      <th>travel_from_Ndhiwa</th>\n",
              "      <th>travel_from_Nyachenge</th>\n",
              "      <th>travel_from_Oyugis</th>\n",
              "      <th>travel_from_Rodi</th>\n",
              "      <th>travel_from_Rongo</th>\n",
              "      <th>travel_from_Sirare</th>\n",
              "      <th>travel_from_Sori</th>\n",
              "      <th>car_type_shuttle</th>\n",
              "      <th>date</th>\n",
              "      <th>month</th>\n",
              "      <th>year</th>\n",
              "      <th>hour</th>\n",
              "      <th>minutes</th>\n",
              "    </tr>\n",
              "  </thead>\n",
              "  <tbody>\n",
              "    <tr>\n",
              "      <th>0</th>\n",
              "      <td>1442</td>\n",
              "      <td>17-10-17</td>\n",
              "      <td>7:15</td>\n",
              "      <td>Nairobi</td>\n",
              "      <td>49</td>\n",
              "      <td>1</td>\n",
              "      <td>1</td>\n",
              "      <td>0</td>\n",
              "      <td>0</td>\n",
              "      <td>0</td>\n",
              "      <td>0</td>\n",
              "      <td>0</td>\n",
              "      <td>0</td>\n",
              "      <td>0</td>\n",
              "      <td>0</td>\n",
              "      <td>1</td>\n",
              "      <td>0</td>\n",
              "      <td>0</td>\n",
              "      <td>0</td>\n",
              "      <td>0</td>\n",
              "      <td>0</td>\n",
              "      <td>0</td>\n",
              "      <td>0</td>\n",
              "      <td>0</td>\n",
              "      <td>17</td>\n",
              "      <td>10</td>\n",
              "      <td>17</td>\n",
              "      <td>7</td>\n",
              "      <td>15</td>\n",
              "    </tr>\n",
              "    <tr>\n",
              "      <th>1</th>\n",
              "      <td>5437</td>\n",
              "      <td>19-11-17</td>\n",
              "      <td>7:12</td>\n",
              "      <td>Nairobi</td>\n",
              "      <td>49</td>\n",
              "      <td>1</td>\n",
              "      <td>1</td>\n",
              "      <td>0</td>\n",
              "      <td>0</td>\n",
              "      <td>0</td>\n",
              "      <td>0</td>\n",
              "      <td>0</td>\n",
              "      <td>0</td>\n",
              "      <td>0</td>\n",
              "      <td>0</td>\n",
              "      <td>1</td>\n",
              "      <td>0</td>\n",
              "      <td>0</td>\n",
              "      <td>0</td>\n",
              "      <td>0</td>\n",
              "      <td>0</td>\n",
              "      <td>0</td>\n",
              "      <td>0</td>\n",
              "      <td>0</td>\n",
              "      <td>19</td>\n",
              "      <td>11</td>\n",
              "      <td>17</td>\n",
              "      <td>7</td>\n",
              "      <td>12</td>\n",
              "    </tr>\n",
              "    <tr>\n",
              "      <th>2</th>\n",
              "      <td>5710</td>\n",
              "      <td>26-11-17</td>\n",
              "      <td>7:05</td>\n",
              "      <td>Nairobi</td>\n",
              "      <td>49</td>\n",
              "      <td>1</td>\n",
              "      <td>1</td>\n",
              "      <td>0</td>\n",
              "      <td>0</td>\n",
              "      <td>0</td>\n",
              "      <td>1</td>\n",
              "      <td>0</td>\n",
              "      <td>0</td>\n",
              "      <td>0</td>\n",
              "      <td>0</td>\n",
              "      <td>0</td>\n",
              "      <td>0</td>\n",
              "      <td>0</td>\n",
              "      <td>0</td>\n",
              "      <td>0</td>\n",
              "      <td>0</td>\n",
              "      <td>0</td>\n",
              "      <td>0</td>\n",
              "      <td>0</td>\n",
              "      <td>26</td>\n",
              "      <td>11</td>\n",
              "      <td>17</td>\n",
              "      <td>7</td>\n",
              "      <td>05</td>\n",
              "    </tr>\n",
              "    <tr>\n",
              "      <th>3</th>\n",
              "      <td>5777</td>\n",
              "      <td>27-11-17</td>\n",
              "      <td>7:10</td>\n",
              "      <td>Nairobi</td>\n",
              "      <td>49</td>\n",
              "      <td>5</td>\n",
              "      <td>1</td>\n",
              "      <td>1</td>\n",
              "      <td>0</td>\n",
              "      <td>0</td>\n",
              "      <td>0</td>\n",
              "      <td>0</td>\n",
              "      <td>0</td>\n",
              "      <td>0</td>\n",
              "      <td>0</td>\n",
              "      <td>0</td>\n",
              "      <td>0</td>\n",
              "      <td>0</td>\n",
              "      <td>0</td>\n",
              "      <td>0</td>\n",
              "      <td>0</td>\n",
              "      <td>0</td>\n",
              "      <td>0</td>\n",
              "      <td>0</td>\n",
              "      <td>27</td>\n",
              "      <td>11</td>\n",
              "      <td>17</td>\n",
              "      <td>7</td>\n",
              "      <td>10</td>\n",
              "    </tr>\n",
              "    <tr>\n",
              "      <th>4</th>\n",
              "      <td>5778</td>\n",
              "      <td>27-11-17</td>\n",
              "      <td>7:12</td>\n",
              "      <td>Nairobi</td>\n",
              "      <td>49</td>\n",
              "      <td>31</td>\n",
              "      <td>1</td>\n",
              "      <td>0</td>\n",
              "      <td>0</td>\n",
              "      <td>0</td>\n",
              "      <td>0</td>\n",
              "      <td>0</td>\n",
              "      <td>0</td>\n",
              "      <td>0</td>\n",
              "      <td>0</td>\n",
              "      <td>1</td>\n",
              "      <td>0</td>\n",
              "      <td>0</td>\n",
              "      <td>0</td>\n",
              "      <td>0</td>\n",
              "      <td>0</td>\n",
              "      <td>0</td>\n",
              "      <td>0</td>\n",
              "      <td>0</td>\n",
              "      <td>27</td>\n",
              "      <td>11</td>\n",
              "      <td>17</td>\n",
              "      <td>7</td>\n",
              "      <td>12</td>\n",
              "    </tr>\n",
              "  </tbody>\n",
              "</table>\n",
              "</div>"
            ],
            "text/plain": [
              "   ride_id travel_date travel_time travel_to  ...  month  year  hour  minutes\n",
              "0     1442    17-10-17        7:15   Nairobi  ...     10    17     7       15\n",
              "1     5437    19-11-17        7:12   Nairobi  ...     11    17     7       12\n",
              "2     5710    26-11-17        7:05   Nairobi  ...     11    17     7       05\n",
              "3     5777    27-11-17        7:10   Nairobi  ...     11    17     7       10\n",
              "4     5778    27-11-17        7:12   Nairobi  ...     11    17     7       12\n",
              "\n",
              "[5 rows x 29 columns]"
            ]
          },
          "metadata": {
            "tags": []
          },
          "execution_count": 151
        }
      ]
    },
    {
      "cell_type": "code",
      "metadata": {
        "id": "Ck48vQ1_nszV"
      },
      "source": [
        "correlarion=df2.corr()"
      ],
      "execution_count": 152,
      "outputs": []
    },
    {
      "cell_type": "code",
      "metadata": {
        "colab": {
          "base_uri": "https://localhost:8080/",
          "height": 727
        },
        "id": "-98G4XXOnwPk",
        "outputId": "8e8edddc-d126-464b-a011-20f60118dc10"
      },
      "source": [
        "plt.figure(figsize=(15,10))\n",
        "sns.heatmap(abs(correlarion),cmap='coolwarm',annot=True)"
      ],
      "execution_count": 153,
      "outputs": [
        {
          "output_type": "execute_result",
          "data": {
            "text/plain": [
              "<matplotlib.axes._subplots.AxesSubplot at 0x7fca9d8ac290>"
            ]
          },
          "metadata": {
            "tags": []
          },
          "execution_count": 153
        },
        {
          "output_type": "display_data",
          "data": {
            "image/png": "[encoded data removed]",
            "text/plain": [
              "<Figure size 1080x720 with 2 Axes>"
            ]
          },
          "metadata": {
            "tags": [],
            "needs_background": "light"
          }
        }
      ]
    },
    {
      "cell_type": "code",
      "metadata": {
        "id": "maaQF4L5LUGn"
      },
      "source": [
        "from sklearn.linear_model import LinearRegression\n",
        "from sklearn.model_selection import train_test_split\n",
        "from sklearn.metrics import mean_squared_error,r2_score"
      ],
      "execution_count": 154,
      "outputs": []
    },
    {
      "cell_type": "code",
      "metadata": {
        "id": "9UKILyhnL_Al",
        "colab": {
          "base_uri": "https://localhost:8080/"
        },
        "outputId": "f7ad73da-3ea6-4298-a405-864b7191000a"
      },
      "source": [
        "independent=df2.describe(include='all').drop(columns={'ride_id','travel_to','max_capacity','seats_occupied','travel_date','travel_time'}).columns\n",
        "independent"
      ],
      "execution_count": 155,
      "outputs": [
        {
          "output_type": "execute_result",
          "data": {
            "text/plain": [
              "Index(['payment_method_Mpesa', 'travel_from_Homa Bay', 'travel_from_Kehancha',\n",
              "       'travel_from_Kendu Bay', 'travel_from_Keroka', 'travel_from_Keumbu',\n",
              "       'travel_from_Kijauri', 'travel_from_Kisii', 'travel_from_Mbita',\n",
              "       'travel_from_Migori', 'travel_from_Ndhiwa', 'travel_from_Nyachenge',\n",
              "       'travel_from_Oyugis', 'travel_from_Rodi', 'travel_from_Rongo',\n",
              "       'travel_from_Sirare', 'travel_from_Sori', 'car_type_shuttle', 'date',\n",
              "       'month', 'year', 'hour', 'minutes'],\n",
              "      dtype='object')"
            ]
          },
          "metadata": {
            "tags": []
          },
          "execution_count": 155
        }
      ]
    },
    {
      "cell_type": "code",
      "metadata": {
        "id": "dw6t2-VSMNQ5"
      },
      "source": [
        "dependent='seats_occupied'"
      ],
      "execution_count": 156,
      "outputs": []
    },
    {
      "cell_type": "code",
      "metadata": {
        "id": "P5j3R61cNFsc"
      },
      "source": [
        "Xtrain,Xtest,Ytrain,Ytest=train_test_split(df2[independent],df2[dependent],test_size=0.2,random_state=0)"
      ],
      "execution_count": 157,
      "outputs": []
    },
    {
      "cell_type": "code",
      "metadata": {
        "id": "uMnC9Nt4Naoy",
        "colab": {
          "base_uri": "https://localhost:8080/"
        },
        "outputId": "06b403fc-758c-40e8-bd0c-5bca95228969"
      },
      "source": [
        "Xtrain.shape"
      ],
      "execution_count": 158,
      "outputs": [
        {
          "output_type": "execute_result",
          "data": {
            "text/plain": [
              "(41316, 23)"
            ]
          },
          "metadata": {
            "tags": []
          },
          "execution_count": 158
        }
      ]
    },
    {
      "cell_type": "code",
      "metadata": {
        "id": "8yXpgRoaNcuI",
        "colab": {
          "base_uri": "https://localhost:8080/"
        },
        "outputId": "05c13077-b448-4fd7-8bda-be6956ec3c6b"
      },
      "source": [
        "Xtest.shape"
      ],
      "execution_count": 159,
      "outputs": [
        {
          "output_type": "execute_result",
          "data": {
            "text/plain": [
              "(10329, 23)"
            ]
          },
          "metadata": {
            "tags": []
          },
          "execution_count": 159
        }
      ]
    },
    {
      "cell_type": "code",
      "metadata": {
        "id": "EGYWX8ohNek5",
        "colab": {
          "base_uri": "https://localhost:8080/"
        },
        "outputId": "5ab06b6a-c6f1-4908-81ec-a5300640c624"
      },
      "source": [
        "lin=LinearRegression()\n",
        "lin.fit(Xtrain,Ytrain)"
      ],
      "execution_count": 160,
      "outputs": [
        {
          "output_type": "execute_result",
          "data": {
            "text/plain": [
              "LinearRegression(copy_X=True, fit_intercept=True, n_jobs=None, normalize=False)"
            ]
          },
          "metadata": {
            "tags": []
          },
          "execution_count": 160
        }
      ]
    },
    {
      "cell_type": "code",
      "metadata": {
        "id": "eyZy_8nGqu2f",
        "outputId": "ddc12c9b-0517-4255-ab4a-7b57579a1668",
        "colab": {
          "base_uri": "https://localhost:8080/"
        }
      },
      "source": [
        "lin.predict(Xtrain)[0:10]"
      ],
      "execution_count": 162,
      "outputs": [
        {
          "output_type": "execute_result",
          "data": {
            "text/plain": [
              "array([ 7.11108101,  9.27881392, 11.80409354, 14.57103633, -0.83171452,\n",
              "       26.567233  , 36.30967757, 27.0102593 , 12.62337327, 17.83725824])"
            ]
          },
          "metadata": {
            "tags": []
          },
          "execution_count": 162
        }
      ]
    },
    {
      "cell_type": "code",
      "metadata": {
        "id": "6vS9zKhzqzm4",
        "outputId": "0c30afdf-19ab-4598-cd68-8173c5f1e12a",
        "colab": {
          "base_uri": "https://localhost:8080/"
        }
      },
      "source": [
        "Ytrain[0:10]"
      ],
      "execution_count": 164,
      "outputs": [
        {
          "output_type": "execute_result",
          "data": {
            "text/plain": [
              "22960     5\n",
              "40996     8\n",
              "26762    11\n",
              "23870     3\n",
              "50843    10\n",
              "27275    36\n",
              "32730    35\n",
              "41152    22\n",
              "39500     8\n",
              "49305    25\n",
              "Name: seats_occupied, dtype: int64"
            ]
          },
          "metadata": {
            "tags": []
          },
          "execution_count": 164
        }
      ]
    },
    {
      "cell_type": "code",
      "metadata": {
        "colab": {
          "base_uri": "https://localhost:8080/"
        },
        "id": "iyECp11EnO9Y",
        "outputId": "c8b407a7-fb1c-4610-d701-3cefb2166315"
      },
      "source": [
        "r2_score(Ytrain,lin.predict(Xtrain))"
      ],
      "execution_count": 161,
      "outputs": [
        {
          "output_type": "execute_result",
          "data": {
            "text/plain": [
              "0.5847500611937979"
            ]
          },
          "metadata": {
            "tags": []
          },
          "execution_count": 161
        }
      ]
    },
    {
      "cell_type": "code",
      "metadata": {
        "colab": {
          "base_uri": "https://localhost:8080/"
        },
        "id": "ZvXxNdSboeSv",
        "outputId": "09a6780c-d422-405d-a44d-72b8ad9a2610"
      },
      "source": [
        "r2_score(Ytest,lin.predict(Xtest))"
      ],
      "execution_count": 165,
      "outputs": [
        {
          "output_type": "execute_result",
          "data": {
            "text/plain": [
              "0.5764533480124758"
            ]
          },
          "metadata": {
            "tags": []
          },
          "execution_count": 165
        }
      ]
    }
  ]
}